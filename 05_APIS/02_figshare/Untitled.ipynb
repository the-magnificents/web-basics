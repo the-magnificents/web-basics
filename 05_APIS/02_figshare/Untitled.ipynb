{
 "cells": [
  {
   "cell_type": "markdown",
   "metadata": {},
   "source": [
    "# OAI-PMH \n",
    "Open Archives Initiative Protocol for Metadata Harvesting. OAI-PMH requires that Unique Identifiers are URIs, they have to look like urls..\n",
    "\n",
    "## Model\n",
    "![OAI-PMH model](./img/OAI-PMH.png)\n",
    "\n",
    "## Glosary\n",
    "**Resource** Original physical objects, and metadata records about this resources.\n",
    "\n",
    "**Record** Different metadata schema. Metadata record\n",
    "\n",
    "**Unique Identifier** Name or address for a resource or for a metadata record\n",
    "\n",
    "**Repository** Collection of metadata records. OAI-PMHs the server has to respond to requests about metadata records.\n",
    "\n",
    "**Harvester** Algorithm that makes those requests to a repository and collects the metadata from the request collected in the repository."
   ]
  },
  {
   "cell_type": "markdown",
   "metadata": {},
   "source": [
    "## Getting a record"
   ]
  },
  {
   "cell_type": "code",
   "execution_count": 49,
   "metadata": {},
   "outputs": [],
   "source": [
    "import requests\n",
    "from xml.etree import ElementTree\n",
    "from xml.dom import minidom\n",
    "\n",
    "req_list = [\n",
    "    \"https://api.figshare.com/v2/oai\",\n",
    "    \"https://api.figshare.com/v2/oai?verb=ListRecords&metadataPrefix=oai_dc&until=2010-08-18T08:33:01Z\"\n",
    "]\n",
    "\n",
    "response = requests.get(req_list[1])\n",
    "\n",
    "tree = ElementTree.fromstring(response.content)\n",
    "xmlstr = minidom.parseString(ElementTree.tostring(tree)).toprettyxml(indent=\"  \")"
   ]
  },
  {
   "cell_type": "code",
   "execution_count": 50,
   "metadata": {},
   "outputs": [],
   "source": [
    "def pretty_print(current, parent=None, index=-1, depth=0):\n",
    "    for i, node in enumerate(current):\n",
    "        _pretty_print(node, current, i, depth + 1)\n",
    "    if parent is not None:\n",
    "        if index == 0:\n",
    "            parent.text = '\\n' + ('\\t' * depth)\n",
    "        else:\n",
    "            parent[index - 1].tail = '\\n' + ('\\t' * depth)\n",
    "        if index == len(parent) - 1:\n",
    "            current.tail = '\\n' + ('\\t' * (depth - 1))"
   ]
  },
  {
   "cell_type": "code",
   "execution_count": 51,
   "metadata": {},
   "outputs": [],
   "source": [
    "pretty_print(tree)"
   ]
  },
  {
   "cell_type": "code",
   "execution_count": 47,
   "metadata": {},
   "outputs": [],
   "source": [
    "import xml.etree.ElementTree as ET\n",
    "root = ET.fromstring('''<?xml version='1.0' encoding='utf-8'?>\n",
    "<root>\n",
    "    <data version=\"1\"><data>76939</data>\n",
    "</data><data version=\"2\">\n",
    "        <data>266720</data><newdata>3569</newdata>\n",
    "    </data> <!--root[-1].tail-->\n",
    "    <data version=\"3\"> <!--addElement's text-->\n",
    "<data>5431</data> <!--newData's tail-->\n",
    "    </data> <!--addElement's tail-->\n",
    "</root>\n",
    "''')\n",
    "_pretty_print(root)\n",
    "\n",
    "tree = ET.ElementTree(root)\n",
    "tree.write(\"pretty.xml\")\n",
    "with open(\"pretty.xml\", 'r') as f:\n",
    "    print(f.read())"
   ]
  },
  {
   "cell_type": "markdown",
   "metadata": {},
   "source": [
    "## References\n",
    "- [Understanding the Protocol for Metadata Harvesting of the Open Archives Initiative](https://librarytechnology.org/document/9944)\n",
    "- [Open Archives Initiative Protocol for Metadata Harvesting](https://www.openarchives.org/pmh/)\n",
    "- [Video: Metadata MOOC 5-12: Open Archives Initiative Protocol for Metadata Harvesting (OAI-PMH)](https://www.youtube.com/watch?v=fpz4fzKvVTg&ab_channel=JeffreyPomerantz)"
   ]
  },
  {
   "cell_type": "code",
   "execution_count": null,
   "metadata": {},
   "outputs": [],
   "source": []
  }
 ],
 "metadata": {
  "kernelspec": {
   "display_name": "Python 3",
   "language": "python",
   "name": "python3"
  },
  "language_info": {
   "codemirror_mode": {
    "name": "ipython",
    "version": 3
   },
   "file_extension": ".py",
   "mimetype": "text/x-python",
   "name": "python",
   "nbconvert_exporter": "python",
   "pygments_lexer": "ipython3",
   "version": "3.8.3"
  }
 },
 "nbformat": 4,
 "nbformat_minor": 4
}
